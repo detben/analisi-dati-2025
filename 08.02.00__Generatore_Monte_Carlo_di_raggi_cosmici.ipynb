{
 "cells": [
  {
   "cell_type": "markdown",
   "metadata": {},
   "source": [
    "# Generatore Monte Carlo di raggi cosmici\n",
    "\n",
    "La distribuzione angolare dei raggi cosmici che raggiungono il suolo terresrre segue approssimativamente la legge $\\mathrm{d}P(\\theta,\\phi)/\\mathrm{d}\\Omega = k \\cos^2\\theta$ con $0\\leq\\theta<\\pi/2$.\n",
    "\n",
    "Il punto di impatto al suolo è uniformemente distribuito sulla superficie.\n",
    "\n",
    "* Scrivere un generatore di raggi cosmici distribuiti secondo questo modello.\n",
    "* Graficarne la distribuzione del punto di impatto e della direzione di provenienza.\n",
    "* Graficare un numero finito con l'utility di matplotlib [quiver](https://matplotlib.org/stable/api/_as_gen/matplotlib.pyplot.quiver.html), che è pensata per visualizzare un campo vettoriale, ma noi la useremo in modo diverso"
   ]
  },
  {
   "cell_type": "markdown",
   "metadata": {},
   "source": [
    "Opzionale:\n",
    "\n",
    "* Definire la geometria di un semplice telescopio, ad es.: fatto da due piani quadrati orizzontali posti ad una certa altezza tra di loro\n",
    "* Calcolare le intersezioni con i due piani di rivelatore dei raggi cosmici generati aventi punto di impatto sul piano di base\n",
    "* Calcolare l'accettanza geometrica del telescopio rispetto ai raggi cosmici che arrivano al rivelatore di base"
   ]
  },
  {
   "cell_type": "markdown",
   "metadata": {},
   "source": [
    "## Distribuzione angolare\n",
    "\n",
    "La prima cosa da fere è generare punti in due dimensioni, $(\\theta, \\phi)$, tali che i punti siani distribuiti secondo la legge:\n",
    "\n",
    "$\\displaystyle \\frac{\\mathrm{d}P}{\\mathrm{d}\\Omega} = \\frac{\\mathrm{d}P}{\\sin\\theta\\mathrm{d}\\theta\\,\\mathrm{d}\\phi} = k \\cos^2\\theta$ \n",
    "\n",
    "dove $k$ è una costante di normalizzazione e $0\\le \\theta <\\pi/2$\n",
    "Possiamo anche riscrivere:\n",
    "\n",
    "$\\displaystyle\\frac{\\mathrm{d}P}{\\mathrm{d}\\theta\\,\\mathrm{d}\\phi}=f(\\theta)\\,g(\\phi)= k\\sin\\theta\\cos^2\\theta$ \n",
    "\n",
    "Dove:\n",
    "\n",
    "$f(\\theta)=c_1\\sin \\theta\\cos^2\\theta$\n",
    "\n",
    "$g(\\phi) = c_2$\n",
    "\n",
    "e $k=c_1 c_2$."
   ]
  },
  {
   "cell_type": "markdown",
   "metadata": {},
   "source": [
    "La distribuzione cumulativa di $f(\\theta)$ è:\n",
    "\n",
    "$\\displaystyle F(\\theta) = c_1 \\int_{0}^\\theta \\sin \\theta^\\prime\\cos^2\\theta^\\prime\\,\\mathrm{d}\\theta^\\prime = \n",
    "-\\frac{c_1}{3}\\left[\\cos^3\\theta^\\prime\\right]_{\\theta^\\prime=0}^{\\theta^\\prime=\\theta} = \n",
    "\\frac{c_1}{3}(1 - \\cos^3\\theta)$\n",
    "\n",
    "Il coefficiente di normalizzazionre $c_1$ va posto in modo che sia $F(\\pi/2) = 1$:\n",
    "\n",
    "$\\displaystyle 1 = \\frac{c_1}{3}\\left(1 - \\cos^3 \\frac{\\pi}{2}\\right) = \\frac{c_1}{3}$\n",
    "\n",
    "Quindi $c_1 = 3$ e $F(\\theta) = 1 - \\cos^3\\theta$.\n",
    "\n",
    "$F(\\theta)$ va invertita per otterenere $\\theta$ dall'equazione: $F(\\theta)= r_1$, dove $r_1$ è un numero uniormemente distribuito in $[0,1\\,[$:\n",
    "\n",
    "\n",
    "$\\displaystyle 1 - \\cos^3\\theta = r_1$\n",
    "\n",
    "Da cui:\n",
    "\n",
    "\n",
    "$\\displaystyle\\theta = \\mathrm{arccos}(\\sqrt[3]{1-r_1})\\in \\left[0, \\frac{\\pi}{2}\\right[$\n",
    "\n",
    "Considerando che la distribuzione di $1-r_1$ è la stessa di $r_1$, potremmo anche scrivere:\n",
    "\n",
    "$\\displaystyle\\theta = \\mathrm{arccos}(\\sqrt[3]{r_1})\\in \\left] 0, \\frac{\\pi}{2}\\right]$\n"
   ]
  },
  {
   "cell_type": "markdown",
   "metadata": {},
   "source": [
    "L'angolo $\\phi$, come di consueto, si può generare unifrmemente tra $0$ e $2\\pi$ a partire da un numero $r_2$ distribuito uniformemente in $[0,1\\,[$:\n",
    "$\\phi = 2\\pi r_2\\in [0, 2\\pi\\,[$"
   ]
  },
  {
   "cell_type": "code",
   "execution_count": null,
   "metadata": {},
   "outputs": [],
   "source": []
  }
 ],
 "metadata": {
  "kernelspec": {
   "display_name": "Python 3 (ipykernel)",
   "language": "python",
   "name": "python3"
  },
  "language_info": {
   "codemirror_mode": {
    "name": "ipython",
    "version": 3
   },
   "file_extension": ".py",
   "mimetype": "text/x-python",
   "name": "python",
   "nbconvert_exporter": "python",
   "pygments_lexer": "ipython3",
   "version": "3.11.6"
  }
 },
 "nbformat": 4,
 "nbformat_minor": 4
}
